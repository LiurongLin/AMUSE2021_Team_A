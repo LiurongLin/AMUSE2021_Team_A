{
 "cells": [
  {
   "cell_type": "code",
   "execution_count": 1,
   "id": "c992e17d",
   "metadata": {},
   "outputs": [],
   "source": [
    "from amuse.lab import *\n",
    "from amuse.units import (units, constants)\n",
    "from amuse.couple import bridge\n",
    "from amuse.units import quantities\n",
    "from amuse.ext.orbital_elements import orbital_elements_from_binary\n",
    "import matplotlib.pyplot as plt\n",
    "import matplotlib.patches as patch\n",
    "import numpy as np\n",
    "from tqdm import tqdm\n",
    "import sys\n",
    "import csv\n",
    "import timeit\n",
    "\n",
    "# If you want to quickly check if it works: uncomment line 63 & 100 and comment line 62 & 99\n",
    "# Also remember that if you ran it one time, that you delete the \"mesa_gravity_hydro.amuse\" file\n",
    "# because otherwise you will get an error (because it cannot overwrite the file).\n",
    "\n",
    "# Change parameter n and t_end (try n=5 and t_end=100yr again with new code for saving files)\n",
    "\n",
    "# start run time\n",
    "start = timeit.default_timer()\n",
    "\n",
    "class friction:\n",
    "    \n",
    "    def __init__(self,hydro,particle):\n",
    "        \n",
    "        self.hydro = hydro\n",
    "        self.particle = particle\n",
    "\n",
    "    def get_gravity_at_point(self,eps,x,y,z):\n",
    "        ##drag coefficient\n",
    "        \n",
    "        c_drag = 0.47\n",
    "        \n",
    "        result_ax = quantities.AdaptingVectorQuantity()\n",
    "        result_ay = quantities.AdaptingVectorQuantity()\n",
    "        result_az = quantities.AdaptingVectorQuantity()\n",
    "        \n",
    "        for i in range (1):\n",
    "        \n",
    "            hydro_density = self.hydro.get_hydro_state_at_point(self.particle[i].x,self.particle[i].y,self.particle[i].z,\n",
    "                                                          self.particle[i].vx,self.particle[i].vy,self.particle[i].vz)[0]\n",
    "            vx = self.particle[i].vx\n",
    "            vy = self.particle[i].vy\n",
    "            vz = self.particle[i].vz\n",
    "\n",
    "            cross_section = np.pi*(self.particle[i].radius)**2\n",
    "\n",
    "            ax = (0.5 * hydro_density * vx**2 * c_drag * cross_section)/self.particle[i].mass\n",
    "            ay = (0.5 * hydro_density * vy**2 * c_drag * cross_section)/self.particle[i].mass\n",
    "            az = (0.5 * hydro_density * vz**2 * c_drag * cross_section)/self.particle[i].mass\n",
    "        \n",
    "        \n",
    "            result_ax.append(ax)\n",
    "            result_ay.append(ay)\n",
    "            result_az.append(az)\n",
    "        \n",
    "        return result_ax,result_ay,result_az\n",
    "\n",
    "    \n",
    "def main_nomoon(age,n):\n",
    "    z = 0.0134\n",
    "    RSun = 696340e5 #cm\n",
    "    RRoche = 0.9*1.5e11 | units.m\n",
    "    evolving_age = age | units.Myr\n",
    "    n = n\n",
    "\n",
    "    sun = Particles(1)\n",
    "    sun.mass = 1 | units.MSun\n",
    "\n",
    "    system = Particles(1)\n",
    "\n",
    "    # Earth\n",
    "    earth = system[0]\n",
    "    earth.name = \"Earth\"\n",
    "    earth.mass = units.MEarth(1)\n",
    "    earth.radius = units.REarth(1) \n",
    "    earth.position = np.array((1,0.0,0.0)) | units.au\n",
    "    earth.velocity = np.array((0.0,29780,0.0)) | units.ms\n",
    "\n",
    "    converter_gravity = nbody_system.nbody_to_si(system.mass.sum(), earth.position.length())\n",
    "    gravity = Huayno(converter_gravity)\n",
    "    gravity.particles.add_particles(system)\n",
    "    gravity.parameters.timestep = 0.1 | units.yr\n",
    "\n",
    "    stellar = MESA()\n",
    "    stellar.particles.add_particle(sun)\n",
    "    stellar.parameters.metallicity = z\n",
    "\n",
    "    evol_sun = stellar.particles[0]\n",
    "    iterations = 0\n",
    "\n",
    "    luminosity_sun = []\n",
    "    temperature_sun = []\n",
    "\n",
    "    while evol_sun.radius <= RRoche or (evol_sun.age > evolving_age and old_radius > evol_sun.radius):\n",
    "    #while evol_sun.age <= evolving_age:\n",
    "        # print(evol_sun.age.in_(units.Myr))\n",
    "\n",
    "        luminosity_sun.append(evol_sun.luminosity.value_in(units.LSun))\n",
    "        temperature_sun.append(evol_sun.temperature.value_in(units.K))\n",
    "\n",
    "        stellar.evolve_model()\n",
    "\n",
    "        old_radius = evol_sun.radius\n",
    "        iterations += 1\n",
    "\n",
    "        if iterations == 100:\n",
    "            iterations = 0\n",
    "            print(\"Radius sun =\", evol_sun.radius.in_(units.RSun))\n",
    "            print(\"Evolving age =\", evol_sun.age.in_(units.Myr))    \n",
    "\n",
    "    print(\"Evolving age =\", evol_sun.age.in_(units.Myr))    \n",
    "\n",
    "    # print current run time\n",
    "    current_time = timeit.default_timer()\n",
    "    print(\"Current run time =\", int((current_time-start)/60), \"min\")\n",
    "\n",
    "    target_core_mass = 0.8 * evol_sun.mass\n",
    "    part_of_smaller_mass = 0.25\n",
    "    N_h = (evol_sun.mass - target_core_mass) / (part_of_smaller_mass * (1 | units.MEarth))\n",
    "    # N_h = (evol_sun.mass - target_core_mass) / (part_of_smaller_mass * moon.mass)\n",
    "\n",
    "    sph_model = convert_stellar_model_to_SPH(evol_sun,\n",
    "                                             round(N_h),\n",
    "                                             with_core_particle = True,\n",
    "                                             target_core_mass = 0.8 * evol_sun.mass,\n",
    "                                             do_store_composition = False,\n",
    "                                             base_grid_options=dict(type=\"fcc\"))\n",
    "\n",
    "    core = sph_model.core_particle.as_set()\n",
    "    gas = sph_model.gas_particles\n",
    "\n",
    "    print(\"Ngas =\", len(gas), \"Ncore =\", core)\n",
    "    print(\"RCore =\", core.radius.value_in(units.m)[0])\n",
    "\n",
    "    x_coordinates = dict()\n",
    "    y_coordinates = dict()\n",
    "    eccentricities = dict()\n",
    "    semi_major_axis = dict()\n",
    "\n",
    "    x_coordinates[\"core\"] = []\n",
    "    x_coordinates[\"gas_last\"] = []\n",
    "    x_coordinates[\"earth\"] = []\n",
    "\n",
    "    y_coordinates[\"core\"] = []\n",
    "    y_coordinates[\"gas_last\"] = []\n",
    "    y_coordinates[\"earth\"] = []\n",
    "\n",
    "    eccentricities[\"earth\"] = []\n",
    "\n",
    "    semi_major_axis[\"earth\"] = []\n",
    "\n",
    "    for i in range(n):\n",
    "\n",
    "        converter_hydro = nbody_system.nbody_to_si(gas.mass.sum(), gas[-1].position.length())\n",
    "        hydro = Fi(converter_hydro, mode=\"openmp\")#, redirection=\"none\")\n",
    "        hydro.dm_particles.add_particle(core)\n",
    "        hydro.gas_particles.add_particles(gas)\n",
    "        # hydro.parameters.timestep = 1e-3 | units.yr\n",
    "\n",
    "        gravity_hydro = bridge.Bridge()#use_threading=False)\n",
    "        if hydro.get_hydro_state_at_point(gravity.particles[0].x, gravity.particles[0].y, gravity.particles[0].z,\n",
    "                                          gravity.particles[0].vx, gravity.particles[0].vy, \n",
    "                                          gravity.particles[0].vz)[0].value_in(units.kg/(units.m**3)) == 0:\n",
    "            gravity_hydro.add_system(gravity, (hydro,))\n",
    "        else:\n",
    "            gravity_hydro.add_system(gravity, (hydro, friction(hydro, gravity.particles)))\n",
    "        gravity_hydro.timestep = 0.5 * gravity.parameters.timestep\n",
    "        # gravity_hydro.timestep = 1e-3 | units.yr\n",
    "        print(\"Gravity_hydro timestep =\", gravity_hydro.timestep)\n",
    "\n",
    "        t_end = 50 | units.yr\n",
    "        model_time = 0 | units.yr\n",
    "        time = np.arange(model_time.value_in(units.yr), t_end.value_in(units.yr), gravity_hydro.timestep.value_in(units.yr)) | units.yr\n",
    "        for t in tqdm(time, desc=\"gravity_hydro\"):\n",
    "            x_coordinates[\"core\"].append(core.x.value_in(units.cm)[0])\n",
    "            x_coordinates[\"gas_last\"].append(gas[-1].x.value_in(units.cm))\n",
    "            x_coordinates[\"earth\"].append(gravity.particles[0].x.value_in(units.cm))\n",
    "        \n",
    "\n",
    "            y_coordinates[\"core\"].append(core.y.value_in(units.cm)[0])\n",
    "            y_coordinates[\"gas_last\"].append(gas[-1].y.value_in(units.cm))\n",
    "            y_coordinates[\"earth\"].append(gravity.particles[0].y.value_in(units.cm))\n",
    "        \n",
    "\n",
    "            ae = orbital_elements_from_binary([core, gravity.particles[0]], G=constants.G)[2:4]\n",
    "            semi_major_axis[\"earth\"].append(ae[0].value_in(units.m))\n",
    "            eccentricities[\"earth\"].append(ae[1])\n",
    "\n",
    "\n",
    "            gravity_hydro.evolve_model(t)\n",
    "\n",
    "        stellar.evolve_model(t_end)\n",
    "\n",
    "        write_set_to_file(gravity_hydro.particles, \"gravity_particles_t_end={}yr_n={}_i={}_test.amuse\".format(t_end.value_in(units.yr), n, i), \"amuse\", append_to_file=False)\n",
    "        write_set_to_file(hydro.particles, \"hydro_particles_t_end={}yr_n={}_i={}_test.amuse\".format(t_end.value_in(units.yr), n, i), \"amuse\", append_to_file=False)\n",
    "\n",
    "        hydro.stop()\n",
    "\n",
    "        sph_model = convert_stellar_model_to_SPH(evol_sun,\n",
    "                                                round(N_h),\n",
    "                                                with_core_particle = True,\n",
    "                                                target_core_mass = 0.8 * evol_sun.mass,\n",
    "                                                do_store_composition = False,\n",
    "                                                base_grid_options=dict(type=\"fcc\"))\n",
    "\n",
    "        core = sph_model.core_particle.as_set()\n",
    "        gas = sph_model.gas_particles\n",
    "\n",
    "    data_file = open(\"nomoon_coordinates_t_end={}yr_n={}.csv\".format(t_end.value_in(units.yr), n), mode='w')\n",
    "    data_writer = csv.writer(data_file)\n",
    "    for (key, x), y in zip(x_coordinates.items(), y_coordinates.values()):\n",
    "        data_writer.writerow([key, x, y])\n",
    "    data_file.close()\n",
    "\n",
    "    data_file = open(\"nomoon_ae_t_end={}yr_n={}.csv\".format(t_end.value_in(units.yr), n), mode='w')\n",
    "    data_writer = csv.writer(data_file)\n",
    "    for (key, a), e in zip(semi_major_axis.items(), eccentricities.values()):\n",
    "        data_writer.writerow([key, a, e])\n",
    "    data_file.close()\n",
    "\n",
    "\n",
    "\n",
    "    stellar.stop()\n",
    "    gravity.stop()\n",
    "\n",
    "    # stop and print run time\n",
    "    stop = timeit.default_timer()\n",
    "    print(\"Time:\", int((stop-start)/60), \"min\")"
   ]
  },
  {
   "cell_type": "code",
   "execution_count": 2,
   "id": "fe58b625",
   "metadata": {},
   "outputs": [
    {
     "name": "stdout",
     "output_type": "stream",
     "text": [
      "Radius sun = 1.30670041612 RSun\n",
      "Evolving age = 9423.72289785 Myr\n",
      "Radius sun = 1.8833254304 RSun\n",
      "Evolving age = 11207.9450929 Myr\n",
      "Radius sun = 2.83062891471 RSun\n",
      "Evolving age = 11571.4038177 Myr\n",
      "Radius sun = 4.18411669238 RSun\n",
      "Evolving age = 11756.6002957 Myr\n",
      "Radius sun = 5.61437204976 RSun\n",
      "Evolving age = 11834.0552772 Myr\n",
      "Radius sun = 7.05118647426 RSun\n",
      "Evolving age = 11873.7675294 Myr\n",
      "Radius sun = 8.84826772775 RSun\n",
      "Evolving age = 11910.6653186 Myr\n",
      "Radius sun = 12.6869495865 RSun\n",
      "Evolving age = 11956.8263013 Myr\n",
      "Radius sun = 17.5834846988 RSun\n",
      "Evolving age = 11973.8296799 Myr\n",
      "Radius sun = 22.3400031592 RSun\n",
      "Evolving age = 11982.3831896 Myr\n",
      "Radius sun = 26.9777835155 RSun\n",
      "Evolving age = 11987.5085516 Myr\n",
      "Radius sun = 31.5565132874 RSun\n",
      "Evolving age = 11990.9481991 Myr\n",
      "Radius sun = 36.0184425744 RSun\n",
      "Evolving age = 11993.4009325 Myr\n",
      "Radius sun = 40.4922089072 RSun\n",
      "Evolving age = 11995.2822695 Myr\n",
      "Radius sun = 44.9015892426 RSun\n",
      "Evolving age = 11996.7508677 Myr\n",
      "Radius sun = 49.3283752054 RSun\n",
      "Evolving age = 11997.9526541 Myr\n",
      "Radius sun = 53.6502634577 RSun\n",
      "Evolving age = 11998.9339135 Myr\n",
      "Radius sun = 57.9138336302 RSun\n",
      "Evolving age = 11999.7549104 Myr\n",
      "Evolving age = 12000.0021579 Myr\n",
      "Current run time = 8 min\n",
      "Ngas = 251766 Ncore =                  key         mass       radius           vx           vy           vz            x            y            z\n",
      "                   -         MSun     0.01 * m        m / s        m / s        m / s            m            m            m\n",
      "====================  ===========  ===========  ===========  ===========  ===========  ===========  ===========  ===========\n",
      " 4332137233210870416    7.583e-01    1.230e+12    0.000e+00    0.000e+00    0.000e+00    0.000e+00    0.000e+00    0.000e+00\n",
      "====================  ===========  ===========  ===========  ===========  ===========  ===========  ===========  ===========\n",
      "RCore = 12296958158.7\n",
      "Gravity_hydro timestep = 1577846.29968 s\n"
     ]
    },
    {
     "name": "stderr",
     "output_type": "stream",
     "text": [
      "gravity_hydro: 100%|██████████████████████████| 300/300 [02:13<00:00,  2.25it/s]\n"
     ]
    },
    {
     "name": "stdout",
     "output_type": "stream",
     "text": [
      "Gravity_hydro timestep = 1577846.29968 s\n"
     ]
    },
    {
     "name": "stderr",
     "output_type": "stream",
     "text": [
      "gravity_hydro: 100%|██████████████████████████| 300/300 [02:14<00:00,  2.23it/s]\n"
     ]
    },
    {
     "name": "stdout",
     "output_type": "stream",
     "text": [
      "Gravity_hydro timestep = 1577846.29968 s\n"
     ]
    },
    {
     "name": "stderr",
     "output_type": "stream",
     "text": [
      "gravity_hydro: 100%|██████████████████████████| 300/300 [00:16<00:00, 18.41it/s]\n"
     ]
    },
    {
     "name": "stdout",
     "output_type": "stream",
     "text": [
      "Gravity_hydro timestep = 1577846.29968 s\n"
     ]
    },
    {
     "name": "stderr",
     "output_type": "stream",
     "text": [
      "gravity_hydro: 100%|██████████████████████████| 300/300 [00:15<00:00, 19.54it/s]\n"
     ]
    },
    {
     "name": "stdout",
     "output_type": "stream",
     "text": [
      "Gravity_hydro timestep = 1577846.29968 s\n"
     ]
    },
    {
     "name": "stderr",
     "output_type": "stream",
     "text": [
      "gravity_hydro: 100%|██████████████████████████| 300/300 [00:16<00:00, 18.09it/s]\n"
     ]
    },
    {
     "name": "stdout",
     "output_type": "stream",
     "text": [
      "Gravity_hydro timestep = 1577846.29968 s\n"
     ]
    },
    {
     "name": "stderr",
     "output_type": "stream",
     "text": [
      "gravity_hydro: 100%|██████████████████████████| 300/300 [00:15<00:00, 19.91it/s]\n"
     ]
    },
    {
     "name": "stdout",
     "output_type": "stream",
     "text": [
      "Gravity_hydro timestep = 1577846.29968 s\n"
     ]
    },
    {
     "name": "stderr",
     "output_type": "stream",
     "text": [
      "gravity_hydro: 100%|██████████████████████████| 300/300 [00:16<00:00, 18.17it/s]\n"
     ]
    },
    {
     "name": "stdout",
     "output_type": "stream",
     "text": [
      "Gravity_hydro timestep = 1577846.29968 s\n"
     ]
    },
    {
     "name": "stderr",
     "output_type": "stream",
     "text": [
      "gravity_hydro: 100%|██████████████████████████| 300/300 [00:16<00:00, 18.06it/s]\n"
     ]
    },
    {
     "name": "stdout",
     "output_type": "stream",
     "text": [
      "Gravity_hydro timestep = 1577846.29968 s\n"
     ]
    },
    {
     "name": "stderr",
     "output_type": "stream",
     "text": [
      "gravity_hydro: 100%|██████████████████████████| 300/300 [00:18<00:00, 16.34it/s]\n"
     ]
    },
    {
     "name": "stdout",
     "output_type": "stream",
     "text": [
      "Gravity_hydro timestep = 1577846.29968 s\n"
     ]
    },
    {
     "name": "stderr",
     "output_type": "stream",
     "text": [
      "gravity_hydro: 100%|██████████████████████████| 300/300 [00:16<00:00, 17.95it/s]\n"
     ]
    },
    {
     "name": "stdout",
     "output_type": "stream",
     "text": [
      "Gravity_hydro timestep = 1577846.29968 s\n"
     ]
    },
    {
     "name": "stderr",
     "output_type": "stream",
     "text": [
      "gravity_hydro: 100%|██████████████████████████| 300/300 [00:16<00:00, 18.68it/s]\n"
     ]
    },
    {
     "name": "stdout",
     "output_type": "stream",
     "text": [
      "Gravity_hydro timestep = 1577846.29968 s\n"
     ]
    },
    {
     "name": "stderr",
     "output_type": "stream",
     "text": [
      "gravity_hydro: 100%|██████████████████████████| 300/300 [00:14<00:00, 20.42it/s]\n"
     ]
    },
    {
     "name": "stdout",
     "output_type": "stream",
     "text": [
      "Gravity_hydro timestep = 1577846.29968 s\n"
     ]
    },
    {
     "name": "stderr",
     "output_type": "stream",
     "text": [
      "gravity_hydro: 100%|██████████████████████████| 300/300 [00:15<00:00, 19.96it/s]\n"
     ]
    },
    {
     "name": "stdout",
     "output_type": "stream",
     "text": [
      "Gravity_hydro timestep = 1577846.29968 s\n"
     ]
    },
    {
     "name": "stderr",
     "output_type": "stream",
     "text": [
      "gravity_hydro: 100%|██████████████████████████| 300/300 [00:14<00:00, 20.03it/s]\n"
     ]
    },
    {
     "name": "stdout",
     "output_type": "stream",
     "text": [
      "Gravity_hydro timestep = 1577846.29968 s\n"
     ]
    },
    {
     "name": "stderr",
     "output_type": "stream",
     "text": [
      "gravity_hydro: 100%|██████████████████████████| 300/300 [02:13<00:00,  2.24it/s]\n"
     ]
    },
    {
     "name": "stdout",
     "output_type": "stream",
     "text": [
      "Time: 24 min\n"
     ]
    }
   ],
   "source": [
    "main_nomoon(12e3,15,'e1')"
   ]
  },
  {
   "cell_type": "code",
   "execution_count": 2,
   "id": "196ee65e",
   "metadata": {},
   "outputs": [
    {
     "name": "stdout",
     "output_type": "stream",
     "text": [
      "Radius sun = 1.30670041612 RSun\n",
      "Evolving age = 9423.72289785 Myr\n",
      "Radius sun = 1.8833254304 RSun\n",
      "Evolving age = 11207.9450929 Myr\n",
      "Radius sun = 2.83062891471 RSun\n",
      "Evolving age = 11571.4038177 Myr\n",
      "Radius sun = 4.18411669238 RSun\n",
      "Evolving age = 11756.6002957 Myr\n",
      "Radius sun = 5.61437204976 RSun\n",
      "Evolving age = 11834.0552772 Myr\n",
      "Radius sun = 7.05118647426 RSun\n",
      "Evolving age = 11873.7675294 Myr\n",
      "Radius sun = 8.84826772775 RSun\n",
      "Evolving age = 11910.6653186 Myr\n",
      "Radius sun = 12.6869495865 RSun\n",
      "Evolving age = 11956.8263013 Myr\n",
      "Radius sun = 17.5834846988 RSun\n",
      "Evolving age = 11973.8296799 Myr\n",
      "Radius sun = 22.3400031592 RSun\n",
      "Evolving age = 11982.3831896 Myr\n",
      "Radius sun = 26.9777835155 RSun\n",
      "Evolving age = 11987.5085516 Myr\n",
      "Radius sun = 31.5565132874 RSun\n",
      "Evolving age = 11990.9481991 Myr\n",
      "Radius sun = 36.0184425744 RSun\n",
      "Evolving age = 11993.4009325 Myr\n",
      "Radius sun = 40.4922089072 RSun\n",
      "Evolving age = 11995.2822695 Myr\n",
      "Radius sun = 44.9015892426 RSun\n",
      "Evolving age = 11996.7508677 Myr\n",
      "Radius sun = 49.3283752054 RSun\n",
      "Evolving age = 11997.9526541 Myr\n",
      "Radius sun = 53.6502634577 RSun\n",
      "Evolving age = 11998.9339135 Myr\n",
      "Radius sun = 57.9138336302 RSun\n",
      "Evolving age = 11999.7549104 Myr\n",
      "Radius sun = 62.1245186392 RSun\n",
      "Evolving age = 12000.4586434 Myr\n",
      "Radius sun = 66.2932344418 RSun\n",
      "Evolving age = 12001.0702044 Myr\n",
      "Radius sun = 70.4308216694 RSun\n",
      "Evolving age = 12001.6086592 Myr\n",
      "Radius sun = 74.5171065075 RSun\n",
      "Evolving age = 12002.0850602 Myr\n",
      "Radius sun = 78.5472300502 RSun\n",
      "Evolving age = 12002.5093083 Myr\n",
      "Radius sun = 82.5392374582 RSun\n",
      "Evolving age = 12002.8918522 Myr\n",
      "Radius sun = 86.479240753 RSun\n",
      "Evolving age = 12003.237795 Myr\n",
      "Radius sun = 90.3303720115 RSun\n",
      "Evolving age = 12003.5496477 Myr\n",
      "Radius sun = 94.0960932156 RSun\n",
      "Evolving age = 12003.834124 Myr\n",
      "Radius sun = 97.8667090218 RSun\n",
      "Evolving age = 12004.0980025 Myr\n",
      "Radius sun = 101.564160236 RSun\n",
      "Evolving age = 12004.3410517 Myr\n",
      "Radius sun = 105.215643871 RSun\n",
      "Evolving age = 12004.566823 Myr\n",
      "Radius sun = 108.840534854 RSun\n",
      "Evolving age = 12004.7781194 Myr\n",
      "Radius sun = 112.451738293 RSun\n",
      "Evolving age = 12004.977328 Myr\n",
      "Radius sun = 116.031037661 RSun\n",
      "Evolving age = 12005.1650113 Myr\n",
      "Radius sun = 119.583417116 RSun\n",
      "Evolving age = 12005.3430199 Myr\n",
      "Radius sun = 123.135559338 RSun\n",
      "Evolving age = 12005.5129583 Myr\n",
      "Radius sun = 126.636504185 RSun\n",
      "Evolving age = 12005.6756117 Myr\n",
      "Radius sun = 130.050834277 RSun\n",
      "Evolving age = 12005.8306672 Myr\n",
      "Radius sun = 133.228339043 RSun\n",
      "Evolving age = 12005.9791647 Myr\n",
      "Radius sun = 133.291908167 RSun\n",
      "Evolving age = 12006.0671125 Myr\n",
      "Radius sun = 133.291506184 RSun\n",
      "Evolving age = 12006.0671263 Myr\n",
      "Radius sun = 133.237946746 RSun\n",
      "Evolving age = 12006.0671275 Myr\n",
      "Radius sun = 121.014051256 RSun\n",
      "Evolving age = 12006.0671788 Myr\n",
      "Radius sun = 84.1107074197 RSun\n",
      "Evolving age = 12006.0673711 Myr\n",
      "Radius sun = 52.6684721272 RSun\n",
      "Evolving age = 12006.0679963 Myr\n",
      "Radius sun = 31.7018678818 RSun\n",
      "Evolving age = 12006.0703948 Myr\n",
      "Radius sun = 17.6036416947 RSun\n",
      "Evolving age = 12006.0819074 Myr\n",
      "Radius sun = 8.70432333516 RSun\n",
      "Evolving age = 12006.1160757 Myr\n",
      "Radius sun = 22.1991871518 RSun\n",
      "Evolving age = 12006.1586412 Myr\n",
      "Radius sun = 19.558973599 RSun\n",
      "Evolving age = 12006.2512775 Myr\n",
      "Radius sun = 17.5821134354 RSun\n",
      "Evolving age = 12006.2600147 Myr\n",
      "Radius sun = 11.8888106873 RSun\n",
      "Evolving age = 12006.3497694 Myr\n",
      "Radius sun = 15.6745696107 RSun\n",
      "Evolving age = 12006.4873858 Myr\n",
      "Radius sun = 12.9628382812 RSun\n",
      "Evolving age = 12006.5209032 Myr\n",
      "Radius sun = 12.5773764993 RSun\n",
      "Evolving age = 12006.8008803 Myr\n",
      "Radius sun = 11.201049064 RSun\n",
      "Evolving age = 12006.857638 Myr\n",
      "Radius sun = 11.6236317443 RSun\n",
      "Evolving age = 12007.2169597 Myr\n",
      "Radius sun = 9.9702222492 RSun\n",
      "Evolving age = 12007.5272723 Myr\n",
      "Radius sun = 10.0300948916 RSun\n",
      "Evolving age = 12007.8464388 Myr\n",
      "Radius sun = 10.9263928813 RSun\n",
      "Evolving age = 12008.3424958 Myr\n",
      "Radius sun = 10.5758147544 RSun\n",
      "Evolving age = 12008.3713724 Myr\n",
      "Radius sun = 10.1838152971 RSun\n",
      "Evolving age = 12008.4639112 Myr\n",
      "Radius sun = 12.090745412 RSun\n",
      "Evolving age = 12081.6182503 Myr\n",
      "Radius sun = 16.6689819374 RSun\n",
      "Evolving age = 12109.6225836 Myr\n",
      "Radius sun = 30.2792904369 RSun\n",
      "Evolving age = 12131.0218369 Myr\n",
      "Radius sun = 56.7767672088 RSun\n",
      "Evolving age = 12134.574444 Myr\n",
      "Radius sun = 94.5728181336 RSun\n",
      "Evolving age = 12135.4845744 Myr\n",
      "Radius sun = 111.977768199 RSun\n",
      "Evolving age = 12135.7818293 Myr\n",
      "Radius sun = 122.770588376 RSun\n",
      "Evolving age = 12135.9654953 Myr\n",
      "Radius sun = 130.79900323 RSun\n",
      "Evolving age = 12136.1005511 Myr\n",
      "Radius sun = 137.38878449 RSun\n",
      "Evolving age = 12136.2105639 Myr\n",
      "Radius sun = 143.169213813 RSun\n",
      "Evolving age = 12136.3054862 Myr\n",
      "Radius sun = 149.925436711 RSun\n",
      "Evolving age = 12136.389672 Myr\n",
      "Radius sun = 163.960114675 RSun\n",
      "Evolving age = 12136.4568103 Myr\n",
      "Radius sun = 134.817595501 RSun\n",
      "Evolving age = 12136.4610496 Myr\n",
      "Radius sun = 69.6738098107 RSun\n",
      "Evolving age = 12136.4615137 Myr\n",
      "Radius sun = 160.722372622 RSun\n",
      "Evolving age = 12136.4619722 Myr\n",
      "Radius sun = 116.45418124 RSun\n",
      "Evolving age = 12136.4641448 Myr\n",
      "Radius sun = 183.530291908 RSun\n",
      "Evolving age = 12136.5142755 Myr\n",
      "Radius sun = 173.850162173 RSun\n",
      "Evolving age = 12136.5302733 Myr\n",
      "Radius sun = 129.69831784 RSun\n",
      "Evolving age = 12136.5304501 Myr\n",
      "Radius sun = 67.3526502597 RSun\n",
      "Evolving age = 12136.5307968 Myr\n",
      "Radius sun = 181.937342224 RSun\n",
      "Evolving age = 12136.5309502 Myr\n",
      "Evolving age = 12136.531001 Myr\n",
      "Current run time = 38 min\n",
      "Ngas = 184722 Ncore =                  key         mass       radius           vx           vy           vz            x            y            z\n",
      "                   -         MSun     0.01 * m        m / s        m / s        m / s            m            m            m\n",
      "====================  ===========  ===========  ===========  ===========  ===========  ===========  ===========  ===========\n",
      "17334859207635054636    5.546e-01    1.730e+12    0.000e+00    0.000e+00    0.000e+00    0.000e+00    0.000e+00    0.000e+00\n",
      "====================  ===========  ===========  ===========  ===========  ===========  ===========  ===========  ===========\n",
      "RCore = 17301211260.5\n",
      "Gravity_hydro timestep = 1577846.29968 s\n"
     ]
    },
    {
     "name": "stderr",
     "output_type": "stream",
     "text": [
      "gravity_hydro: 100%|██████████████████████████| 300/300 [01:36<00:00,  3.11it/s]\n"
     ]
    },
    {
     "name": "stdout",
     "output_type": "stream",
     "text": [
      "Gravity_hydro timestep = 1577846.29968 s\n"
     ]
    },
    {
     "name": "stderr",
     "output_type": "stream",
     "text": [
      "gravity_hydro: 100%|██████████████████████████| 300/300 [01:34<00:00,  3.18it/s]\n"
     ]
    },
    {
     "name": "stdout",
     "output_type": "stream",
     "text": [
      "Gravity_hydro timestep = 1577846.29968 s\n"
     ]
    },
    {
     "name": "stderr",
     "output_type": "stream",
     "text": [
      "gravity_hydro: 100%|██████████████████████████| 300/300 [01:40<00:00,  2.98it/s]\n"
     ]
    },
    {
     "name": "stdout",
     "output_type": "stream",
     "text": [
      "Gravity_hydro timestep = 1577846.29968 s\n"
     ]
    },
    {
     "name": "stderr",
     "output_type": "stream",
     "text": [
      "gravity_hydro: 100%|██████████████████████████| 300/300 [01:38<00:00,  3.03it/s]\n"
     ]
    },
    {
     "name": "stdout",
     "output_type": "stream",
     "text": [
      "Gravity_hydro timestep = 1577846.29968 s\n"
     ]
    },
    {
     "name": "stderr",
     "output_type": "stream",
     "text": [
      "gravity_hydro: 100%|██████████████████████████| 300/300 [01:39<00:00,  3.01it/s]\n"
     ]
    },
    {
     "name": "stdout",
     "output_type": "stream",
     "text": [
      "Gravity_hydro timestep = 1577846.29968 s\n"
     ]
    },
    {
     "name": "stderr",
     "output_type": "stream",
     "text": [
      "gravity_hydro: 100%|██████████████████████████| 300/300 [01:39<00:00,  3.01it/s]\n"
     ]
    },
    {
     "name": "stdout",
     "output_type": "stream",
     "text": [
      "Gravity_hydro timestep = 1577846.29968 s\n"
     ]
    },
    {
     "name": "stderr",
     "output_type": "stream",
     "text": [
      "gravity_hydro: 100%|██████████████████████████| 300/300 [01:42<00:00,  2.93it/s]\n"
     ]
    },
    {
     "name": "stdout",
     "output_type": "stream",
     "text": [
      "Gravity_hydro timestep = 1577846.29968 s\n"
     ]
    },
    {
     "name": "stderr",
     "output_type": "stream",
     "text": [
      "gravity_hydro: 100%|██████████████████████████| 300/300 [00:16<00:00, 18.51it/s]\n"
     ]
    },
    {
     "name": "stdout",
     "output_type": "stream",
     "text": [
      "Gravity_hydro timestep = 1577846.29968 s\n"
     ]
    },
    {
     "name": "stderr",
     "output_type": "stream",
     "text": [
      "gravity_hydro: 100%|██████████████████████████| 300/300 [00:15<00:00, 19.47it/s]\n"
     ]
    },
    {
     "name": "stdout",
     "output_type": "stream",
     "text": [
      "Gravity_hydro timestep = 1577846.29968 s\n"
     ]
    },
    {
     "name": "stderr",
     "output_type": "stream",
     "text": [
      "gravity_hydro: 100%|██████████████████████████| 300/300 [00:13<00:00, 22.92it/s]\n"
     ]
    },
    {
     "name": "stdout",
     "output_type": "stream",
     "text": [
      "Gravity_hydro timestep = 1577846.29968 s\n"
     ]
    },
    {
     "name": "stderr",
     "output_type": "stream",
     "text": [
      "gravity_hydro: 100%|██████████████████████████| 300/300 [00:18<00:00, 16.14it/s]\n"
     ]
    },
    {
     "name": "stdout",
     "output_type": "stream",
     "text": [
      "Gravity_hydro timestep = 1577846.29968 s\n"
     ]
    },
    {
     "name": "stderr",
     "output_type": "stream",
     "text": [
      "gravity_hydro: 100%|██████████████████████████| 300/300 [00:14<00:00, 21.34it/s]\n"
     ]
    },
    {
     "name": "stdout",
     "output_type": "stream",
     "text": [
      "Gravity_hydro timestep = 1577846.29968 s\n"
     ]
    },
    {
     "name": "stderr",
     "output_type": "stream",
     "text": [
      "gravity_hydro: 100%|██████████████████████████| 300/300 [00:14<00:00, 20.96it/s]\n"
     ]
    },
    {
     "name": "stdout",
     "output_type": "stream",
     "text": [
      "Gravity_hydro timestep = 1577846.29968 s\n"
     ]
    },
    {
     "name": "stderr",
     "output_type": "stream",
     "text": [
      "gravity_hydro: 100%|██████████████████████████| 300/300 [01:42<00:00,  2.92it/s]\n"
     ]
    },
    {
     "name": "stdout",
     "output_type": "stream",
     "text": [
      "Gravity_hydro timestep = 1577846.29968 s\n"
     ]
    },
    {
     "name": "stderr",
     "output_type": "stream",
     "text": [
      "gravity_hydro: 100%|██████████████████████████| 300/300 [01:38<00:00,  3.06it/s]\n"
     ]
    },
    {
     "name": "stdout",
     "output_type": "stream",
     "text": [
      "Time: 59 min\n"
     ]
    }
   ],
   "source": [
    "main_nomoon(12e3,15,'e0')"
   ]
  },
  {
   "cell_type": "code",
   "execution_count": 2,
   "id": "be84f70e",
   "metadata": {},
   "outputs": [
    {
     "name": "stdout",
     "output_type": "stream",
     "text": [
      "Radius sun = 1.30670041612 RSun\n",
      "Evolving age = 9423.72289785 Myr\n",
      "Radius sun = 1.8833254304 RSun\n",
      "Evolving age = 11207.9450929 Myr\n",
      "Radius sun = 2.83062891471 RSun\n",
      "Evolving age = 11571.4038177 Myr\n",
      "Radius sun = 4.18411669238 RSun\n",
      "Evolving age = 11756.6002957 Myr\n",
      "Radius sun = 5.61437204976 RSun\n",
      "Evolving age = 11834.0552772 Myr\n",
      "Radius sun = 7.05118647426 RSun\n",
      "Evolving age = 11873.7675294 Myr\n",
      "Radius sun = 8.84826772775 RSun\n",
      "Evolving age = 11910.6653186 Myr\n",
      "Radius sun = 12.6869495865 RSun\n",
      "Evolving age = 11956.8263013 Myr\n",
      "Radius sun = 17.5834846988 RSun\n",
      "Evolving age = 11973.8296799 Myr\n",
      "Radius sun = 22.3400031592 RSun\n",
      "Evolving age = 11982.3831896 Myr\n",
      "Radius sun = 26.9777835155 RSun\n",
      "Evolving age = 11987.5085516 Myr\n",
      "Radius sun = 31.5565132874 RSun\n",
      "Evolving age = 11990.9481991 Myr\n",
      "Radius sun = 36.0184425744 RSun\n",
      "Evolving age = 11993.4009325 Myr\n",
      "Radius sun = 40.4922089072 RSun\n",
      "Evolving age = 11995.2822695 Myr\n",
      "Radius sun = 44.9015892426 RSun\n",
      "Evolving age = 11996.7508677 Myr\n",
      "Radius sun = 49.3283752054 RSun\n",
      "Evolving age = 11997.9526541 Myr\n",
      "Radius sun = 53.6502634577 RSun\n",
      "Evolving age = 11998.9339135 Myr\n",
      "Radius sun = 57.9138336302 RSun\n",
      "Evolving age = 11999.7549104 Myr\n",
      "Radius sun = 62.1245186392 RSun\n",
      "Evolving age = 12000.4586434 Myr\n",
      "Radius sun = 66.2932344418 RSun\n",
      "Evolving age = 12001.0702044 Myr\n",
      "Radius sun = 70.4308216694 RSun\n",
      "Evolving age = 12001.6086592 Myr\n",
      "Radius sun = 74.5171065075 RSun\n",
      "Evolving age = 12002.0850602 Myr\n",
      "Radius sun = 78.5472300502 RSun\n",
      "Evolving age = 12002.5093083 Myr\n",
      "Radius sun = 82.5392374582 RSun\n",
      "Evolving age = 12002.8918522 Myr\n",
      "Radius sun = 86.479240753 RSun\n",
      "Evolving age = 12003.237795 Myr\n",
      "Radius sun = 90.3303720115 RSun\n",
      "Evolving age = 12003.5496477 Myr\n",
      "Radius sun = 94.0960932156 RSun\n",
      "Evolving age = 12003.834124 Myr\n",
      "Radius sun = 97.8667090218 RSun\n",
      "Evolving age = 12004.0980025 Myr\n",
      "Radius sun = 101.564160236 RSun\n",
      "Evolving age = 12004.3410517 Myr\n",
      "Radius sun = 105.215643871 RSun\n",
      "Evolving age = 12004.566823 Myr\n",
      "Radius sun = 108.840534854 RSun\n",
      "Evolving age = 12004.7781194 Myr\n",
      "Radius sun = 112.451738293 RSun\n",
      "Evolving age = 12004.977328 Myr\n",
      "Radius sun = 116.031037661 RSun\n",
      "Evolving age = 12005.1650113 Myr\n",
      "Radius sun = 119.583417116 RSun\n",
      "Evolving age = 12005.3430199 Myr\n",
      "Radius sun = 123.135559338 RSun\n",
      "Evolving age = 12005.5129583 Myr\n",
      "Radius sun = 126.636504185 RSun\n",
      "Evolving age = 12005.6756117 Myr\n",
      "Radius sun = 130.050834277 RSun\n",
      "Evolving age = 12005.8306672 Myr\n",
      "Radius sun = 133.228339043 RSun\n",
      "Evolving age = 12005.9791647 Myr\n",
      "Radius sun = 133.291908167 RSun\n",
      "Evolving age = 12006.0671125 Myr\n",
      "Radius sun = 133.291506184 RSun\n",
      "Evolving age = 12006.0671263 Myr\n",
      "Radius sun = 133.237946746 RSun\n",
      "Evolving age = 12006.0671275 Myr\n",
      "Radius sun = 121.014051256 RSun\n",
      "Evolving age = 12006.0671788 Myr\n",
      "Radius sun = 84.1107074197 RSun\n",
      "Evolving age = 12006.0673711 Myr\n",
      "Radius sun = 52.6684721272 RSun\n",
      "Evolving age = 12006.0679963 Myr\n",
      "Radius sun = 31.7018678818 RSun\n",
      "Evolving age = 12006.0703948 Myr\n",
      "Radius sun = 17.6036416947 RSun\n",
      "Evolving age = 12006.0819074 Myr\n",
      "Radius sun = 8.70432333516 RSun\n",
      "Evolving age = 12006.1160757 Myr\n",
      "Radius sun = 22.1991871518 RSun\n",
      "Evolving age = 12006.1586412 Myr\n",
      "Radius sun = 19.558973599 RSun\n",
      "Evolving age = 12006.2512775 Myr\n",
      "Radius sun = 17.5821134354 RSun\n",
      "Evolving age = 12006.2600147 Myr\n",
      "Radius sun = 11.8888106873 RSun\n",
      "Evolving age = 12006.3497694 Myr\n",
      "Radius sun = 15.6745696107 RSun\n",
      "Evolving age = 12006.4873858 Myr\n",
      "Radius sun = 12.9628382812 RSun\n",
      "Evolving age = 12006.5209032 Myr\n",
      "Radius sun = 12.5773764993 RSun\n",
      "Evolving age = 12006.8008803 Myr\n",
      "Radius sun = 11.201049064 RSun\n",
      "Evolving age = 12006.857638 Myr\n",
      "Radius sun = 11.6236317443 RSun\n",
      "Evolving age = 12007.2169597 Myr\n",
      "Radius sun = 9.9702222492 RSun\n",
      "Evolving age = 12007.5272723 Myr\n",
      "Radius sun = 10.0300948916 RSun\n",
      "Evolving age = 12007.8464388 Myr\n",
      "Radius sun = 10.9263928813 RSun\n",
      "Evolving age = 12008.3424958 Myr\n",
      "Radius sun = 10.5758147544 RSun\n",
      "Evolving age = 12008.3713724 Myr\n",
      "Radius sun = 10.1838152971 RSun\n",
      "Evolving age = 12008.4639112 Myr\n",
      "Radius sun = 12.090745412 RSun\n",
      "Evolving age = 12081.6182503 Myr\n",
      "Radius sun = 16.6689819374 RSun\n",
      "Evolving age = 12109.6225836 Myr\n",
      "Radius sun = 30.2792904369 RSun\n",
      "Evolving age = 12131.0218369 Myr\n",
      "Radius sun = 56.7767672088 RSun\n",
      "Evolving age = 12134.574444 Myr\n",
      "Radius sun = 94.5728181336 RSun\n",
      "Evolving age = 12135.4845744 Myr\n",
      "Radius sun = 111.977768199 RSun\n",
      "Evolving age = 12135.7818293 Myr\n",
      "Radius sun = 122.770588376 RSun\n",
      "Evolving age = 12135.9654953 Myr\n",
      "Radius sun = 130.79900323 RSun\n",
      "Evolving age = 12136.1005511 Myr\n",
      "Radius sun = 137.38878449 RSun\n",
      "Evolving age = 12136.2105639 Myr\n",
      "Radius sun = 143.169213813 RSun\n",
      "Evolving age = 12136.3054862 Myr\n",
      "Radius sun = 149.925436711 RSun\n",
      "Evolving age = 12136.389672 Myr\n",
      "Radius sun = 163.960114675 RSun\n",
      "Evolving age = 12136.4568103 Myr\n",
      "Radius sun = 134.817595501 RSun\n",
      "Evolving age = 12136.4610496 Myr\n",
      "Radius sun = 69.6738098107 RSun\n",
      "Evolving age = 12136.4615137 Myr\n",
      "Radius sun = 160.722372622 RSun\n",
      "Evolving age = 12136.4619722 Myr\n",
      "Radius sun = 116.45418124 RSun\n",
      "Evolving age = 12136.4641448 Myr\n",
      "Radius sun = 183.530291908 RSun\n",
      "Evolving age = 12136.5142755 Myr\n",
      "Radius sun = 173.850162173 RSun\n",
      "Evolving age = 12136.5302733 Myr\n",
      "Radius sun = 129.69831784 RSun\n",
      "Evolving age = 12136.5304501 Myr\n",
      "Radius sun = 67.3526502597 RSun\n",
      "Evolving age = 12136.5307968 Myr\n",
      "Radius sun = 181.937342224 RSun\n",
      "Evolving age = 12136.5309502 Myr\n",
      "Evolving age = 12136.531001 Myr\n",
      "Current run time = 38 min\n",
      "Ngas = 184722 Ncore =                  key         mass       radius           vx           vy           vz            x            y            z\n",
      "                   -         MSun     0.01 * m        m / s        m / s        m / s            m            m            m\n",
      "====================  ===========  ===========  ===========  ===========  ===========  ===========  ===========  ===========\n",
      "13378317434811489141    5.546e-01    1.730e+12    0.000e+00    0.000e+00    0.000e+00    0.000e+00    0.000e+00    0.000e+00\n",
      "====================  ===========  ===========  ===========  ===========  ===========  ===========  ===========  ===========\n",
      "RCore = 17301211260.5\n",
      "Gravity_hydro timestep = 1577846.29968 s\n"
     ]
    },
    {
     "name": "stderr",
     "output_type": "stream",
     "text": [
      "gravity_hydro: 100%|████████████████████████| 1000/1000 [05:40<00:00,  2.94it/s]\n"
     ]
    },
    {
     "name": "stdout",
     "output_type": "stream",
     "text": [
      "Gravity_hydro timestep = 1577846.29968 s\n"
     ]
    },
    {
     "name": "stderr",
     "output_type": "stream",
     "text": [
      "gravity_hydro: 100%|████████████████████████| 1000/1000 [05:32<00:00,  3.01it/s]\n"
     ]
    },
    {
     "name": "stdout",
     "output_type": "stream",
     "text": [
      "Gravity_hydro timestep = 1577846.29968 s\n"
     ]
    },
    {
     "name": "stderr",
     "output_type": "stream",
     "text": [
      "gravity_hydro: 100%|████████████████████████| 1000/1000 [05:24<00:00,  3.08it/s]\n"
     ]
    },
    {
     "name": "stdout",
     "output_type": "stream",
     "text": [
      "Gravity_hydro timestep = 1577846.29968 s\n"
     ]
    },
    {
     "name": "stderr",
     "output_type": "stream",
     "text": [
      "gravity_hydro: 100%|████████████████████████| 1000/1000 [05:29<00:00,  3.04it/s]\n"
     ]
    },
    {
     "name": "stdout",
     "output_type": "stream",
     "text": [
      "Gravity_hydro timestep = 1577846.29968 s\n"
     ]
    },
    {
     "name": "stderr",
     "output_type": "stream",
     "text": [
      "gravity_hydro: 100%|████████████████████████| 1000/1000 [06:01<00:00,  2.77it/s]\n"
     ]
    },
    {
     "name": "stdout",
     "output_type": "stream",
     "text": [
      "Gravity_hydro timestep = 1577846.29968 s\n"
     ]
    },
    {
     "name": "stderr",
     "output_type": "stream",
     "text": [
      "gravity_hydro: 100%|████████████████████████| 1000/1000 [05:40<00:00,  2.93it/s]\n"
     ]
    },
    {
     "name": "stdout",
     "output_type": "stream",
     "text": [
      "Gravity_hydro timestep = 1577846.29968 s\n"
     ]
    },
    {
     "name": "stderr",
     "output_type": "stream",
     "text": [
      "gravity_hydro: 100%|████████████████████████| 1000/1000 [05:34<00:00,  2.99it/s]\n"
     ]
    },
    {
     "name": "stdout",
     "output_type": "stream",
     "text": [
      "Gravity_hydro timestep = 1577846.29968 s\n"
     ]
    },
    {
     "name": "stderr",
     "output_type": "stream",
     "text": [
      "gravity_hydro: 100%|████████████████████████| 1000/1000 [05:28<00:00,  3.04it/s]\n"
     ]
    },
    {
     "name": "stdout",
     "output_type": "stream",
     "text": [
      "Gravity_hydro timestep = 1577846.29968 s\n"
     ]
    },
    {
     "name": "stderr",
     "output_type": "stream",
     "text": [
      "gravity_hydro: 100%|████████████████████████| 1000/1000 [05:25<00:00,  3.07it/s]\n"
     ]
    },
    {
     "name": "stdout",
     "output_type": "stream",
     "text": [
      "Gravity_hydro timestep = 1577846.29968 s\n"
     ]
    },
    {
     "name": "stderr",
     "output_type": "stream",
     "text": [
      "gravity_hydro: 100%|████████████████████████| 1000/1000 [05:19<00:00,  3.13it/s]\n"
     ]
    },
    {
     "name": "stdout",
     "output_type": "stream",
     "text": [
      "Time: 97 min\n"
     ]
    }
   ],
   "source": [
    "main_nomoon(12e3,10,'e0')"
   ]
  },
  {
   "cell_type": "code",
   "execution_count": null,
   "id": "fa1ecd0d",
   "metadata": {},
   "outputs": [],
   "source": []
  }
 ],
 "metadata": {
  "kernelspec": {
   "display_name": "Python 3",
   "language": "python",
   "name": "python3"
  },
  "language_info": {
   "codemirror_mode": {
    "name": "ipython",
    "version": 3
   },
   "file_extension": ".py",
   "mimetype": "text/x-python",
   "name": "python",
   "nbconvert_exporter": "python",
   "pygments_lexer": "ipython3",
   "version": "3.8.8"
  }
 },
 "nbformat": 4,
 "nbformat_minor": 5
}
