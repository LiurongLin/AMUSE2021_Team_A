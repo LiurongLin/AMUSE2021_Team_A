{
 "cells": [
  {
   "cell_type": "code",
   "execution_count": null,
   "id": "57c8ebed",
   "metadata": {},
   "outputs": [],
   "source": [
    "\n",
    "class friction:\n",
    "    \n",
    "    def __init__(self,hydro,particle):\n",
    "        \n",
    "        self.hydro = hydro\n",
    "        self.particle = particle\n",
    "\n",
    "    def get_gravity_at_point(self,eps,x,y,z):\n",
    "        ##drag coefficient\n",
    "        \n",
    "        c_drag = 0.47\n",
    "        \n",
    "        result_ax = quantities.AdaptingVectorQuantity()\n",
    "        result_ay = quantities.AdaptingVectorQuantity()\n",
    "        result_az = quantities.AdaptingVectorQuantity()\n",
    "        \n",
    "        for i in range (1):\n",
    "        \n",
    "            hydro_density = self.hydro.get_hydro_state_at_point(self.particle[i].x,self.particle[i].y,self.particle[i].z,\n",
    "                                                          self.particle[i].vx,self.particle[i].vy,self.particle[i].vz)[0]\n",
    "            vx = self.particle[i].vx\n",
    "            vy = self.particle[i].vy\n",
    "            vz = self.particle[i].vz\n",
    "\n",
    "            cross_section = np.pi*(self.particle[i].radius)**2\n",
    "\n",
    "            if vx.value_in(units.ms) < 0:\n",
    "                ax = (0.5 * hydro_density * vx**2 * c_drag * cross_section)/self.particle[i].mass\n",
    "            if vx.value_in(units.ms) >= 0:\n",
    "                ax = -(0.5 * hydro_density * vx**2 * c_drag * cross_section)/self.particle[i].mass     \n",
    "            if vy.value_in(units.ms) < 0:\n",
    "                ay = (0.5 * hydro_density * vy**2 * c_drag * cross_section)/self.particle[i].mass\n",
    "            if vy.value_in(units.ms) >= 0:\n",
    "                ay = -(0.5 * hydro_density * vy**2 * c_drag * cross_section)/self.particle[i].mass   \n",
    "            if vz.value_in(units.ms) < 0:\n",
    "                az = (0.5 * hydro_density * vz**2 * c_drag * cross_section)/self.particle[i].mass\n",
    "            if vz.value_in(units.ms) >= 0:\n",
    "                az = -(0.5 * hydro_density * vz**2 * c_drag * cross_section)/self.particle[i].mass\n",
    "            \n",
    "        \n",
    "            result_ax.append(ax)\n",
    "            result_ay.append(ay)\n",
    "            result_az.append(az)\n",
    "        \n",
    "        return result_ax,result_ay,result_az"
   ]
  }
 ],
 "metadata": {
  "kernelspec": {
   "display_name": "Python 3 (ipykernel)",
   "language": "python",
   "name": "python3"
  },
  "language_info": {
   "codemirror_mode": {
    "name": "ipython",
    "version": 3
   },
   "file_extension": ".py",
   "mimetype": "text/x-python",
   "name": "python",
   "nbconvert_exporter": "python",
   "pygments_lexer": "ipython3",
   "version": "3.8.8"
  }
 },
 "nbformat": 4,
 "nbformat_minor": 5
}
